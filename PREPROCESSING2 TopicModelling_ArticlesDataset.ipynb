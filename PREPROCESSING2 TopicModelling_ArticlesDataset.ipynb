{
 "cells": [
  {
   "cell_type": "markdown",
   "metadata": {},
   "source": [
    "# Topic Modelling\n",
    "\n",
    "As the second part of the intial assessment of the capstone 2, I will do some topic modelling to the articles dataset, and perhaps the wikipedia documents. The idea is not only find similarities between the two corpii in content but also in time, and see what topics attract the most interest from wikipedia users.\n",
    "\n",
    "The intial dataset I will try this on is from https://www.kaggle.com/snapcrack/all-the-news/version/4, and I will use sklearn to use NMF and LDA (I think) to quantify topics. I also want to find similarities between different articles, especially between these and the wikipedia ones. Let's see how we do that..."
   ]
  },
  {
   "cell_type": "code",
   "execution_count": 1,
   "metadata": {},
   "outputs": [],
   "source": [
    "from __future__ import print_function\n",
    "from time import time\n",
    "\n",
    "from sklearn.feature_extraction.text import TfidfVectorizer, CountVectorizer\n",
    "from sklearn.decomposition import NMF, LatentDirichletAllocation\n",
    "from sklearn.datasets import fetch_20newsgroups\n"
   ]
  },
  {
   "cell_type": "code",
   "execution_count": 2,
   "metadata": {},
   "outputs": [],
   "source": [
    "def print_top_words(model, feature_names, n_top_words):\n",
    "    for topic_idx, topic in enumerate(model.components_):\n",
    "        message = \"Topic #%d: \" % topic_idx\n",
    "        message += \" \".join([feature_names[i]\n",
    "                             for i in topic.argsort()[:-n_top_words - 1:-1]])\n",
    "        print(message)\n",
    "    print()"
   ]
  },
  {
   "cell_type": "markdown",
   "metadata": {},
   "source": [
    "We need to use our own dataset instead of that predefined..."
   ]
  },
  {
   "cell_type": "code",
   "execution_count": 3,
   "metadata": {},
   "outputs": [],
   "source": [
    "import pandas as pd\n",
    "\n",
    "df1 = pd.read_csv('articles/articles1.csv')"
   ]
  },
  {
   "cell_type": "code",
   "execution_count": 4,
   "metadata": {},
   "outputs": [
    {
     "data": {
      "application/vnd.jupyter.widget-view+json": {
       "model_id": "493ebc222df34755a62d24786ed6597c",
       "version_major": 2,
       "version_minor": 0
      }
     },
     "metadata": {},
     "output_type": "display_data"
    }
   ],
   "source": [
    "df1.head()"
   ]
  },
  {
   "cell_type": "markdown",
   "metadata": {},
   "source": [
    "Improvements:\n",
    "\n",
    "* Drop: unnamed, id, author, url, month and year\n",
    "* Parse dates\n",
    "\n",
    "Load the other 3 files and merge/concatenate them resetting indices"
   ]
  },
  {
   "cell_type": "code",
   "execution_count": 5,
   "metadata": {},
   "outputs": [
    {
     "data": {
      "application/vnd.jupyter.widget-view+json": {
       "model_id": "3534aff10a1c41bba11f2f9a859685d3",
       "version_major": 2,
       "version_minor": 0
      }
     },
     "metadata": {},
     "output_type": "display_data"
    }
   ],
   "source": [
    "df1 = df1[['title', 'publication', 'date', 'content']]\n",
    "df1['date']=pd.to_datetime(df1['date'])\n",
    "df1.head()"
   ]
  },
  {
   "cell_type": "code",
   "execution_count": 6,
   "metadata": {},
   "outputs": [],
   "source": [
    "df2 = pd.read_csv('articles/articles2.csv')\n",
    "df2 = df2[['title', 'publication', 'date', 'content']]\n",
    "df2['date']=pd.to_datetime(df1['date'])\n",
    "\n",
    "df3 = pd.read_csv('articles/articles3.csv')\n",
    "df3 = df3[['title', 'publication', 'date', 'content']]\n",
    "df3['date']=pd.to_datetime(df1['date'])"
   ]
  },
  {
   "cell_type": "code",
   "execution_count": 7,
   "metadata": {
    "scrolled": true
   },
   "outputs": [
    {
     "data": {
      "application/vnd.jupyter.widget-view+json": {
       "model_id": "9aada0bf25d44b42bce9313422e75f72",
       "version_major": 2,
       "version_minor": 0
      }
     },
     "metadata": {},
     "output_type": "display_data"
    }
   ],
   "source": [
    "df3.head()"
   ]
  },
  {
   "cell_type": "code",
   "execution_count": 8,
   "metadata": {},
   "outputs": [],
   "source": [
    "allarts = pd.concat([df1,df2,df3],ignore_index=True)"
   ]
  },
  {
   "cell_type": "code",
   "execution_count": 9,
   "metadata": {},
   "outputs": [
    {
     "name": "stdout",
     "output_type": "stream",
     "text": [
      "<class 'pandas.core.frame.DataFrame'>\n",
      "RangeIndex: 142570 entries, 0 to 142569\n",
      "Data columns (total 4 columns):\n",
      "title          142568 non-null object\n",
      "publication    142570 non-null object\n",
      "date           142570 non-null datetime64[ns]\n",
      "content        142570 non-null object\n",
      "dtypes: datetime64[ns](1), object(3)\n",
      "memory usage: 4.4+ MB\n"
     ]
    }
   ],
   "source": [
    "allarts.info()"
   ]
  },
  {
   "cell_type": "code",
   "execution_count": 10,
   "metadata": {},
   "outputs": [
    {
     "data": {
      "application/vnd.jupyter.widget-view+json": {
       "model_id": "2ebb03ab860346148e26556408c4bea4",
       "version_major": 2,
       "version_minor": 0
      }
     },
     "metadata": {},
     "output_type": "display_data"
    }
   ],
   "source": [
    "allarts.head()"
   ]
  },
  {
   "cell_type": "code",
   "execution_count": 11,
   "metadata": {},
   "outputs": [
    {
     "data": {
      "application/vnd.jupyter.widget-view+json": {
       "model_id": "83fab02fe44b45ad9427eba7accf21d8",
       "version_major": 2,
       "version_minor": 0
      }
     },
     "metadata": {},
     "output_type": "display_data"
    }
   ],
   "source": [
    "allarts.describe()"
   ]
  },
  {
   "cell_type": "code",
   "execution_count": 12,
   "metadata": {},
   "outputs": [
    {
     "data": {
      "application/vnd.jupyter.widget-view+json": {
       "model_id": "ce64471fa9984460aca8dca8303af980",
       "version_major": 2,
       "version_minor": 0
      }
     },
     "metadata": {},
     "output_type": "display_data"
    }
   ],
   "source": [
    "allarts.groupby('publication').count()"
   ]
  },
  {
   "cell_type": "markdown",
   "metadata": {},
   "source": [
    "The adverts need to go. In adidition, we won't be using Breitbart news after the lawsuit by difamation and spreading false information. Interstingly, all adverts are from Breitbart anyway, so we can hit two birds with one stone"
   ]
  },
  {
   "cell_type": "code",
   "execution_count": 13,
   "metadata": {},
   "outputs": [
    {
     "data": {
      "application/vnd.jupyter.widget-view+json": {
       "model_id": "f22e903781fd4830a4b097f9a6832b99",
       "version_major": 2,
       "version_minor": 0
      }
     },
     "metadata": {},
     "output_type": "display_data"
    }
   ],
   "source": [
    "allarts[allarts['content']=='advertisement']"
   ]
  },
  {
   "cell_type": "code",
   "execution_count": 14,
   "metadata": {},
   "outputs": [],
   "source": [
    "allarts = allarts[allarts['publication']!='Breitbart']"
   ]
  },
  {
   "cell_type": "code",
   "execution_count": 15,
   "metadata": {},
   "outputs": [],
   "source": [
    "# let's look at the dates\n",
    "import seaborn as sns\n",
    "import matplotlib.pyplot as plt"
   ]
  },
  {
   "cell_type": "code",
   "execution_count": 16,
   "metadata": {},
   "outputs": [
    {
     "data": {
      "application/vnd.jupyter.widget-view+json": {
       "model_id": "fa713621ace34372985d511de6da2a4b",
       "version_major": 2,
       "version_minor": 0
      }
     },
     "metadata": {},
     "output_type": "display_data"
    }
   ],
   "source": [
    "allarts.groupby('publication').count()"
   ]
  },
  {
   "cell_type": "code",
   "execution_count": 17,
   "metadata": {},
   "outputs": [
    {
     "data": {
      "image/png": "[encoded data removed]",
      "text/plain": [
       "<matplotlib.figure.Figure at 0x7f71b81cdac8>"
      ]
     },
     "metadata": {},
     "output_type": "display_data"
    }
   ],
   "source": [
    "import numpy as np\n",
    "\n",
    "ticklabels=[]\n",
    "for paper in (allarts.groupby('publication').count().index):\n",
    "    paperwords = paper.split(' ')\n",
    "    if len(paperwords) > 1:\n",
    "        # use intials to identify the paper\n",
    "        pprinit = ''\n",
    "        for word in paperwords:\n",
    "            pprinit += word[0]\n",
    "        ticklabels.append(pprinit)\n",
    "    else:\n",
    "        # use only first 3 words\n",
    "        ticklabels.append(paperwords[0][0:3])\n",
    "    \n",
    "plt.bar(np.arange(len(allarts.groupby('publication').count().index)), allarts.groupby('publication').count()['title'].tolist(), \n",
    "        tick_label = ticklabels)\n",
    "plt.ylabel('Number of articles')\n",
    "plt.show()"
   ]
  },
  {
   "cell_type": "code",
   "execution_count": 18,
   "metadata": {},
   "outputs": [
    {
     "data": {
      "image/png": "[encoded data removed]",
      "text/plain": [
       "<matplotlib.figure.Figure at 0x7f71b81c0ba8>"
      ]
     },
     "metadata": {},
     "output_type": "display_data"
    }
   ],
   "source": [
    "sns.lineplot(data=allarts.groupby('date').count()['title'])\n",
    "plt.ylabel('Number of articles per day')\n",
    "plt.xlabel('Date')\n",
    "plt.show()"
   ]
  },
  {
   "cell_type": "code",
   "execution_count": 19,
   "metadata": {},
   "outputs": [
    {
     "data": {
      "image/png": "[encoded data removed]",
      "text/plain": [
       "<matplotlib.figure.Figure at 0x7f71b81c0668>"
      ]
     },
     "metadata": {},
     "output_type": "display_data"
    }
   ],
   "source": [
    "allarts = allarts[allarts['date']>'20160101']\n",
    "\n",
    "sns.lineplot(data=allarts.groupby('date').count()['title'])\n",
    "plt.ylabel('Number of articles per day')\n",
    "plt.xlabel('Date')\n",
    "plt.show()"
   ]
  },
  {
   "cell_type": "markdown",
   "metadata": {},
   "source": [
    "So I will use all the articles from 2016 and later to train the topic modeller, which are the ones needed to compare to the wikipedia dataset. Form the description before we know the last one is on June 21st, 2017.\n",
    "\n",
    "Adpated from http://scikit-learn.org/stable/auto_examples/applications/plot_topics_extraction_with_nmf_lda.html#sphx-glr-auto-examples-applications-plot-topics-extraction-with-nmf-lda-py"
   ]
  },
  {
   "cell_type": "code",
   "execution_count": 20,
   "metadata": {},
   "outputs": [
    {
     "name": "stdout",
     "output_type": "stream",
     "text": [
      "<class 'pandas.core.frame.DataFrame'>\n",
      "Int64Index: 108298 entries, 0 to 140124\n",
      "Data columns (total 4 columns):\n",
      "title          108296 non-null object\n",
      "publication    108298 non-null object\n",
      "date           108298 non-null datetime64[ns]\n",
      "content        108298 non-null object\n",
      "dtypes: datetime64[ns](1), object(3)\n",
      "memory usage: 4.1+ MB\n"
     ]
    }
   ],
   "source": [
    "allarts.info()"
   ]
  },
  {
   "cell_type": "code",
   "execution_count": 21,
   "metadata": {},
   "outputs": [
    {
     "name": "stdout",
     "output_type": "stream",
     "text": [
      "Extracting tf-idf features for NMF...\n",
      "done in 1.430s.\n",
      "Extracting tf features for LDA...\n",
      "done in 1.401s.\n",
      "\n",
      "Fitting the NMF model (Frobenius norm) with tf-idf features, n_samples=1500 and n_features=100...\n",
      "done in 1.717s.\n",
      "\n",
      "Topics in NMF model (Frobenius norm):\n",
      "Topic #0: mr said wrote political case years called court president later\n",
      "Topic #1: like just time people way women life years work don\n",
      "Topic #2: ms said family women school children life later time told\n",
      "Topic #3: trump president mr white house administration obama news campaign said\n",
      "Topic #4: united states american order government russia officials administration country security\n",
      "Topic #5: health care republicans law republican house obama federal court people\n",
      "Topic #6: company million percent year chief executive said 000 years like\n",
      "Topic #7: new times york city news year public state week day\n",
      "Topic #8: said police people city state officials 000 government added team\n",
      "Topic #9: china north government world said year officials country mr years\n",
      "\n",
      "Fitting the NMF model (generalized Kullback-Leibler divergence) with tf-idf features, n_samples=1500 and n_features=100...\n",
      "done in 1.837s.\n",
      "\n",
      "Topics in NMF model (generalized Kullback-Leibler divergence):\n",
      "Topic #0: called did just mr american trump president people including like\n",
      "Topic #1: like time new people just said day way make did\n",
      "Topic #2: ms mr said family later life told wrote university night\n",
      "Topic #3: campaign white house trump administration help washington order executive day\n",
      "Topic #4: government united department states including officials federal state administration said\n",
      "Topic #5: care health law going don asked department court state federal\n",
      "Topic #6: company years executive year million world according work states united\n",
      "Topic #7: court case country federal government law mr city group life\n",
      "Topic #8: york news case media times week city company said chief\n",
      "Topic #9: year years world women china said mr country american national\n",
      "\n",
      "Fitting LDA models with tf features, n_samples=1500 and n_features=100...\n",
      "done in 7.256s.\n",
      "\n",
      "Topics in LDA model:\n",
      "Topic #0: company said court federal government department executive case chief new\n",
      "Topic #1: news media trump times russia people said president night political\n",
      "Topic #2: said like time just team new school years make work\n",
      "Topic #3: percent million year said 000 new years according company united\n",
      "Topic #4: united states said mr trump american president order obama administration\n",
      "Topic #5: said new north state police city people mr times york\n",
      "Topic #6: mr trump said president house white new campaign people washington\n",
      "Topic #7: health republicans said care law china republican mr house trump\n",
      "Topic #8: people women like said just think don know going new\n",
      "Topic #9: ms said mr new family years time york like people\n",
      "\n"
     ]
    }
   ],
   "source": [
    "n_samples = 1500\n",
    "n_features = 100\n",
    "n_components = 10 # tis the number of topics\n",
    "n_top_words = 10\n",
    "\n",
    "data_samples = allarts['content'].tolist()[:n_samples]\n",
    "\n",
    "# Use tf-idf features for NMF.\n",
    "print(\"Extracting tf-idf features for NMF...\")\n",
    "tfidf_vectorizer = TfidfVectorizer(max_df=0.95, min_df=2,\n",
    "                                   max_features=n_features,\n",
    "                                   stop_words='english')\n",
    "t0 = time()\n",
    "tfidf = tfidf_vectorizer.fit_transform(data_samples)\n",
    "print(\"done in %0.3fs.\" % (time() - t0))\n",
    "\n",
    "# Use tf (raw term count) features for LDA.\n",
    "print(\"Extracting tf features for LDA...\")\n",
    "tf_vectorizer = CountVectorizer(max_df=0.95, min_df=2,\n",
    "                                max_features=n_features,\n",
    "                                stop_words='english')\n",
    "t0 = time()\n",
    "tf = tf_vectorizer.fit_transform(data_samples)\n",
    "print(\"done in %0.3fs.\" % (time() - t0))\n",
    "print()\n",
    "\n",
    "# Fit the NMF model\n",
    "print(\"Fitting the NMF model (Frobenius norm) with tf-idf features, \"\n",
    "      \"n_samples=%d and n_features=%d...\"\n",
    "      % (n_samples, n_features))\n",
    "t0 = time()\n",
    "nmf = NMF(n_components=n_components, random_state=1,\n",
    "          alpha=.1, l1_ratio=.5).fit(tfidf)\n",
    "print(\"done in %0.3fs.\" % (time() - t0))\n",
    "\n",
    "print(\"\\nTopics in NMF model (Frobenius norm):\")\n",
    "tfidf_feature_names = tfidf_vectorizer.get_feature_names()\n",
    "print_top_words(nmf, tfidf_feature_names, n_top_words)\n",
    "\n",
    "# Fit the NMF model\n",
    "print(\"Fitting the NMF model (generalized Kullback-Leibler divergence) with \"\n",
    "      \"tf-idf features, n_samples=%d and n_features=%d...\"\n",
    "      % (n_samples, n_features))\n",
    "t0 = time()\n",
    "nmf = NMF(n_components=n_components, random_state=1,\n",
    "          beta_loss='kullback-leibler', solver='mu', max_iter=1000, alpha=.1,\n",
    "          l1_ratio=.5).fit(tfidf)\n",
    "print(\"done in %0.3fs.\" % (time() - t0))\n",
    "\n",
    "print(\"\\nTopics in NMF model (generalized Kullback-Leibler divergence):\")\n",
    "tfidf_feature_names = tfidf_vectorizer.get_feature_names()\n",
    "print_top_words(nmf, tfidf_feature_names, n_top_words)\n",
    "\n",
    "print(\"Fitting LDA models with tf features, \"\n",
    "      \"n_samples=%d and n_features=%d...\"\n",
    "      % (n_samples, n_features))\n",
    "lda = LatentDirichletAllocation(n_components=n_components, max_iter=5,\n",
    "                                learning_method='online',\n",
    "                                learning_offset=50.,\n",
    "                                random_state=0)\n",
    "t0 = time()\n",
    "lda.fit(tf)\n",
    "print(\"done in %0.3fs.\" % (time() - t0))\n",
    "\n",
    "print(\"\\nTopics in LDA model:\")\n",
    "tf_feature_names = tf_vectorizer.get_feature_names()\n",
    "print_top_words(lda, tf_feature_names, n_top_words)"
   ]
  },
  {
   "cell_type": "markdown",
   "metadata": {},
   "source": [
    "It seems that LDA is qualitatively better because the topics are more diverse and comprehensible.\n",
    "\n",
    "Now, we need to do two things: compare the performance, and compare how close different articles are form each other. With that I will choose an algorithm and ba able to correlate information between different sources.\n",
    "\n",
    "The performance can be calculated using topic coherence, perplexity or log likelihood. The first is the most used because it brings about a more qualitative decription of the topics, while the others are not straightforward to understand."
   ]
  },
  {
   "cell_type": "code",
   "execution_count": 33,
   "metadata": {},
   "outputs": [
    {
     "name": "stdout",
     "output_type": "stream",
     "text": [
      "LDA coherence 0.40650791316441925\n",
      "NMF-KL coherence 0.2937728953405744\n"
     ]
    }
   ],
   "source": [
    "from sklearn.metrics.pairwise import cosine_similarity\n",
    "from itertools import combinations\n",
    "import numpy as np\n",
    "\n",
    "coheach = []\n",
    "for topic_idx, topic in enumerate(lda.components_):\n",
    "    topwordlist = topic.argsort()[:-n_top_words - 1:-1]\n",
    "    listofpariwisesims = []\n",
    "    for pair in combinations(topwordlist, 2):\n",
    "        listofpariwisesims.append(cosine_similarity(tf[:,pair[0]].T,tf[:,pair[1]].T)[0][0])\n",
    "    coheach.append(np.mean(listofpariwisesims))\n",
    "    \n",
    "print('LDA coherence', np.mean(coheach))\n",
    "\n",
    "\n",
    "coheach = []\n",
    "for topic_idx, topic in enumerate(nmf.components_):\n",
    "    topwordlist = topic.argsort()[:-n_top_words - 1:-1]\n",
    "    listofpariwisesims = []\n",
    "    for pair in combinations(topwordlist, 2):\n",
    "        listofpariwisesims.append(cosine_similarity(tfidf[:,pair[0]].T,tfidf[:,pair[1]].T)[0][0])\n",
    "    coheach.append(np.mean(listofpariwisesims))\n",
    "    \n",
    "print('NMF-KL coherence', np.mean(coheach))"
   ]
  },
  {
   "cell_type": "markdown",
   "metadata": {},
   "source": [
    "And finding the dominant topics for each doc may come later from here...\n",
    "https://www.machinelearningplus.com/nlp/topic-modeling-python-sklearn-examples/#13compareldamodelperformancescores\n",
    "\n",
    "For now, let's just use the topic of a current document..."
   ]
  },
  {
   "cell_type": "code",
   "execution_count": 22,
   "metadata": {
    "scrolled": true
   },
   "outputs": [
    {
     "name": "stdout",
     "output_type": "stream",
     "text": [
      "Topic:  6\n"
     ]
    }
   ],
   "source": [
    "doc_topic = lda.transform(tf[37])\n",
    "print('Topic: ',doc_topic.argmax())\n",
    "\n",
    "#doc_topic = lda.transform(tf)\n",
    "#for n in range(doc_topic.shape[0]):\n",
    "#    topic_most_pr = doc_topic[n].argmax()\n",
    "#    print(\"doc: {} topic: {}\\n\".format(n,topic_most_pr))"
   ]
  },
  {
   "cell_type": "markdown",
   "metadata": {},
   "source": [
    "And I also want the cosine similarity between any two documents, but that's as easy as calling the function to tf[0], tf[1] for instance"
   ]
  }
 ],
 "metadata": {
  "kernelspec": {
   "display_name": "Python 3",
   "language": "python",
   "name": "python3"
  },
  "language_info": {
   "codemirror_mode": {
    "name": "ipython",
    "version": 3
   },
   "file_extension": ".py",
   "mimetype": "text/x-python",
   "name": "python",
   "nbconvert_exporter": "python",
   "pygments_lexer": "ipython3",
   "version": "3.6.4"
  },
  "toc": {
   "base_numbering": 1,
   "nav_menu": {},
   "number_sections": false,
   "sideBar": false,
   "skip_h1_title": false,
   "title_cell": "Table of Contents",
   "title_sidebar": "Contents",
   "toc_cell": false,
   "toc_position": {},
   "toc_section_display": false,
   "toc_window_display": false
  }
 },
 "nbformat": 4,
 "nbformat_minor": 2
}
